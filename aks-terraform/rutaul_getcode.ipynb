{
 "cells": [
  {
   "cell_type": "code",
   "execution_count": 4,
   "id": "9b7ff7df-9afe-4d57-ab2f-fcc814f800b5",
   "metadata": {},
   "outputs": [],
   "source": [
    "import os\n",
    "\n",
    "\n",
    "def aggregate_terraform_files(start_dir, output_file):\n",
    "    \"\"\"\n",
    "    Traverses the directories starting from `start_dir`, finds Terraform configuration files,\n",
    "    and aggregates their content into `output_file`.\n",
    "    \"\"\"\n",
    "    # Define the Terraform files to look for\n",
    "    tf_files = ['main.tf', 'variables.tf', 'output.tf', 'terraform.tfvars']\n",
    "    \n",
    "    # Open the output file in write mode\n",
    "    with open(output_file, 'w') as outfile:\n",
    "        # Walk through the directory\n",
    "        for root, dirs, files in os.walk(start_dir):\n",
    "            # Check each file in the current directory\n",
    "            for file in files:\n",
    "                if file in tf_files:\n",
    "                    # If the file is one of the Terraform configuration files, read and write its content\n",
    "                    file_path = os.path.join(root, file)\n",
    "                    with open(file_path, 'r') as infile:\n",
    "                        content = infile.read()\n",
    "                        # Write the file path and its content to the output file\n",
    "                        outfile.write(f\"---{file_path}---\\n{content}\\n\\n\")\n",
    "# Specify the start directory and the output file name\n",
    "start_directory = '.'  # Adjust this to your starting directory\n",
    "output_file_name = 'rutaul_All_files.txt.txt'\n",
    "\n",
    "# Execute the function\n",
    "aggregate_terraform_files(start_directory, output_file_name)\n"
   ]
  },
  {
   "cell_type": "code",
   "execution_count": null,
   "id": "2812b2be-6e5f-4083-83ee-ba284296e3bc",
   "metadata": {},
   "outputs": [],
   "source": []
  }
 ],
 "metadata": {
  "kernelspec": {
   "display_name": "Python 3 (ipykernel)",
   "language": "python",
   "name": "python3"
  },
  "language_info": {
   "codemirror_mode": {
    "name": "ipython",
    "version": 3
   },
   "file_extension": ".py",
   "mimetype": "text/x-python",
   "name": "python",
   "nbconvert_exporter": "python",
   "pygments_lexer": "ipython3",
   "version": "3.10.12"
  }
 },
 "nbformat": 4,
 "nbformat_minor": 5
}
